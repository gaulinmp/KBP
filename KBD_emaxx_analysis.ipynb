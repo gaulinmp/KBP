{
 "cells": [
  {
   "cell_type": "code",
   "execution_count": 1,
   "metadata": {
    "collapsed": false
   },
   "outputs": [
    {
     "name": "stdout",
     "output_type": "stream",
     "text": [
      "/home/gaulinmp/Dropbox/Documents/School/Projects/KBP_katrina_bond_to_private/data/emaxx/txt_files\n"
     ]
    }
   ],
   "source": [
    "cd ~/Dropbox/Documents/School/Projects/KBP_katrina_bond_to_private/data/emaxx/txt_files/"
   ]
  },
  {
   "cell_type": "code",
   "execution_count": 2,
   "metadata": {
    "collapsed": false
   },
   "outputs": [
    {
     "name": "stdout",
     "output_type": "stream",
     "text": [
      "IPython: 3.2.0\n",
      "Numpy: 1.9.2\n",
      "Scipy: 0.15.1\n",
      "Pandas: 0.16.2\n",
      "SQLalchemy: 1.0.5\n",
      "MatPlotLib: 1.4.3\n",
      "Statsmodels: 0.6.1\n"
     ]
    }
   ],
   "source": [
    "# system/os/regex and basic math functions\n",
    "import sys\n",
    "import os\n",
    "import re\n",
    "import math\n",
    "import pickle\n",
    "import dateutil\n",
    "import datetime as dt\n",
    "from itertools import permutations as npn\n",
    "from itertools import chain\n",
    "from functools import partial\n",
    "from fuzzywuzzy.process import extractBests, extract, extractOne\n",
    " \n",
    "# IPython display convenience stuff\n",
    "from IPython.display import display_html, display_javascript\n",
    "from IPython import __version__ as ipythonversion\n",
    "HTML = partial(display_html, raw=True)\n",
    "print(\"IPython: {}\".format(ipythonversion))\n",
    "    \n",
    "# Set logging level\n",
    "import logging\n",
    "logging.getLogger(\"\").setLevel(logging.INFO)\n",
    " \n",
    "# numpy for matrix algebra\n",
    "import numpy as np\n",
    "print(\"Numpy: {}\".format(np.version.full_version))\n",
    " \n",
    "# scipy for probability distributions and some statistical tests\n",
    "import scipy as sp\n",
    "import scipy.stats as stats\n",
    "print(\"Scipy: {}\".format(sp.version.full_version))\n",
    " \n",
    "# pandas for data manipulation\n",
    "import pandas as pd\n",
    "print(\"Pandas: {}\".format(pd.version.version))\n",
    " \n",
    "# Set pandas display options for pretty pretty printing\n",
    "pd.set_option('html', True, 'precision', 4)\n",
    "pd.set_option('max_rows',200,'max_columns',50)\n",
    " \n",
    "# pandas web interface for things like FF factors\n",
    "import pandas.io.data as web\n",
    " \n",
    "# pytables for hdf5 library (on-disk storage)\n",
    "# import tables as tb\n",
    " \n",
    "# SQLAlchemy for relational db management\n",
    "import sqlalchemy as sa\n",
    "print(\"SQLalchemy: {}\".format(sa.__version__))\n",
    "\n",
    "# matplotlib for plotting and pyplot for MATLAB-style API\n",
    "import matplotlib as mpl\n",
    "import matplotlib.pyplot as plt\n",
    "print(\"MatPlotLib: {}\".format(mpl.__version__))\n",
    " \n",
    "# display plots inline\n",
    "%matplotlib inline\n",
    " \n",
    "# statsmodels for models with a formula framework similar to R \n",
    "import statsmodels.api as sm\n",
    "print(\"Statsmodels: {}\".format(sm.version.full_version))"
   ]
  },
  {
   "cell_type": "code",
   "execution_count": 3,
   "metadata": {
    "collapsed": true
   },
   "outputs": [],
   "source": [
    "debug = False\n",
    "plots = True\n",
    "KATRINA_DATE = dt.datetime(2005, 8, 23)\n",
    "KATRINA_QUARTER = 3"
   ]
  },
  {
   "cell_type": "markdown",
   "metadata": {},
   "source": [
    "Column headings from KBD_emaxx_cleaning.ipynb, but a subset that I care about. Not all."
   ]
  },
  {
   "cell_type": "code",
   "execution_count": 4,
   "metadata": {
    "collapsed": false
   },
   "outputs": [],
   "source": [
    "def add_column(df, name, func):\n",
    "    \"\"\"\n",
    "    Adds a column to *df* named *name* which is created by:\n",
    "    df[name] = df.apply(func, axis=1)\n",
    "    \"\"\"\n",
    "    df[name] = df.apply(func, axis=1)\n",
    "    return df"
   ]
  },
  {
   "cell_type": "markdown",
   "metadata": {},
   "source": [
    "# Load small files into pandas and search for fund names"
   ]
  },
  {
   "cell_type": "code",
   "execution_count": 5,
   "metadata": {
    "collapsed": false
   },
   "outputs": [
    {
     "name": "stdout",
     "output_type": "stream",
     "text": [
      "PERMNO\tPERMCO\tCOMNAM\tTICKER\tcusip\tcusip6\tgvkey\tCIK\tsic\tdate_start\tdate_end\tyear\tquarter\tdate\tfic\tcomp\r\n",
      "76868\t10817\tAAON INC\tAAON\t00036020\t000360\t\t\t\t2012-05-02\t2013-12-31\t\t\t\tUSA\t1\r\n"
     ]
    }
   ],
   "source": [
    "!head ../../compustat_cusips.tab -n 2"
   ]
  },
  {
   "cell_type": "code",
   "execution_count": 6,
   "metadata": {
    "collapsed": false
   },
   "outputs": [
    {
     "name": "stdout",
     "output_type": "stream",
     "text": [
      "cusip6,year,quarter,name,name_sort,country,ticker\r\n",
      "00023*,2000,1,AAA COOPER TRANSPORTATION,AAA COOPER TRANSPORTATION,USA,\r\n"
     ]
    }
   ],
   "source": [
    "!head ISSUERS.TXT -n 2"
   ]
  },
  {
   "cell_type": "code",
   "execution_count": 7,
   "metadata": {
    "collapsed": false
   },
   "outputs": [],
   "source": [
    "col_str = \"\"\"\n",
    "ISSUERS.TXT: cusip6, year, quarter, name, name_sort, country, ticker\n",
    "SECMAST.TXT: cusip6, cusip78, year, quarter, issue_desc, coupon_rate, coupon_structure, currency_code, maturity_year, maturity_date, market_sector, collateral_code, cusip_source, private, issue_amt_outstanding, issue_amt_change, num_held, num_buying, num_selling, total_par_held, pledge_code, issue_date, moody, s_and_p, fitch, duff_and_phelps\n",
    "FUND.TXT: sub_account_id, year, quarter, sub_account_class, sub_account_name, sub_account_name_sort, managing_firm_id, sub_account_country, total_par_amt_held, total_number_bonds_held, update_date\n",
    "HOLDING.TXT: cusip6, cusip78, sub_account_id, par_amount, report_date, par_amount_change, managing_firm_id, acquisition_book_value, year, quarter\n",
    "FIRM.TXT: managing_firm_id, year, quarter, managing_firm_name, managing_firm_name_sort, managing_firm_type, managing_firm_country_code, managing_firm_total_par_held, managing_firm_number_issues_held\n",
    "\"\"\".strip().split('\\n')\n",
    "\n",
    "column_headings = {ln.split(': ')[0]:ln.split(': ')[1].split(', ') for ln in col_str}\n",
    "\n",
    "ROOTDIR = '/home/gaulinmp/Dropbox/Documents/School/Projects/KBP_katrina_bond_to_private/data/'"
   ]
  },
  {
   "cell_type": "code",
   "execution_count": 8,
   "metadata": {
    "collapsed": false
   },
   "outputs": [],
   "source": [
    "\"\"\"\n",
    "Load all eMAXX files into pandas dataframes except HOLDING which is huge.\n",
    "\"\"\"\n",
    "dfs = {'firmtype':pd.read_csv('2002_Q2/Q2/FIRMTYPE.TXT', header=None, \n",
    "                              names=['managing_firm_type_name', 'managing_firm_type']),\n",
    "       'fundtype':pd.read_csv('2002_Q2/Q2/FUNDCLAS.TXT', header=None, \n",
    "                              names=['sub_account_class_name', 'sub_account_class']),\n",
    "       'compcusip':pd.read_csv(os.path.join(ROOTDIR, 'compustat_cusips.tab'), sep='\\t')}\n",
    "if debug: print()\n",
    "for fname,cols in column_headings.items():\n",
    "    if fname in ('HOLDING.TXT',): continue\n",
    "    with open(fname) as fh:\n",
    "        tmp_df = pd.read_csv(fh, usecols=cols, low_memory=False,\n",
    "                                 true_values=('Y',), false_values=('N',))\n",
    "        dfs[fname.split('.')[0].lower()] = tmp_df\n",
    "        if debug:\n",
    "            print(fname)\n",
    "            print(str(dfs[fname.split('.')[0].lower()].dtypes))\n",
    "            print()"
   ]
  },
  {
   "cell_type": "code",
   "execution_count": 9,
   "metadata": {
    "collapsed": false
   },
   "outputs": [
    {
     "data": {
      "text/plain": [
       "re.compile(r'(?:a.*b)', re.IGNORECASE|re.UNICODE)"
      ]
     },
     "execution_count": 9,
     "metadata": {},
     "output_type": "execute_result"
    }
   ],
   "source": [
    "def mkre(*args):\n",
    "    \"\"\"\n",
    "    Make regular expression from list of words.\n",
    "    Ex:\n",
    "        in: a, b\n",
    "        out: (?:a\\\\s*b|b\\\\s*a)\n",
    "    \"\"\"\n",
    "    return re.compile(\"(?:{})\".format(\".*\".join(args)), re.I)\n",
    "    #return re.compile(\"(?:{})\".format(\"|\".join([\".*\".join(x) for x in npn(args,len(args))])), re.I)\n",
    "mkre('a','b')"
   ]
  },
  {
   "cell_type": "markdown",
   "metadata": {},
   "source": [
    "# Search for Managing Firms\n",
    "\n",
    "Uses regular expressions to allow for word order differences and odd hyphenation and whatnot.\n",
    "Outputs managing_ids into mids list, for use in filtering dataframes."
   ]
  },
  {
   "cell_type": "code",
   "execution_count": 10,
   "metadata": {
    "collapsed": true
   },
   "outputs": [],
   "source": [
    "firm_res = {\n",
    "\"State Farm Insurance Company\": mkre('state','farm'),\n",
    "\"Allstate Insurance Co Group\": mkre('allstate','insurance'),\n",
    "\"Progressive Casualty Group\": mkre('progressive','capital'),\n",
    "\"Alfa Insurance\": mkre('alfa','insurance'),\n",
    "\"Mississippi Farm Bureau Casualty Insurance\": mkre('farm','bureau','casualty'),\n",
    "\"St. Paul Travelers Companies\": mkre('st','paul','travelers'),\n",
    "\"Endurance Reinsurance Corp of America\": mkre('endurance','reinsurance'),\n",
    "\"Olympus Insurance\": mkre('olympus','insurance'),\n",
    "\"Partner Reinsurance United States\": mkre('partner','reinsurance'),\n",
    "\"United Services Automobile Association (usaa)\": mkre('usaa'),\n",
    "#\n",
    "# below here match sub_account_ids\n",
    "\"American Modern Home Insurance\": mkre('american','modern', 'home'),\n",
    "\"American International Insurance\": mkre('american','international','insurance','co'),\n",
    "\"Ace American Reinsurance\": mkre('ace','american','reinsurance'),\n",
    "\"Alea North America Insurance\": mkre('alea','north','america'),\n",
    "\"Nationwide Assurance\": mkre('nationwide','assurance'),\n",
    "\"Odyssey America Reinsurance\": mkre('odyssey','america'),\n",
    "\"Transatlantic Reinsurance United States\": mkre('transatlantic','reinsurance'),\n",
    "}\n",
    "force_ids = {'mids':{}, \n",
    "             'saids':{'American International Insurance':[26386]}}"
   ]
  },
  {
   "cell_type": "code",
   "execution_count": 11,
   "metadata": {
    "collapsed": false,
    "scrolled": true
   },
   "outputs": [
    {
     "name": "stdout",
     "output_type": "stream",
     "text": [
      "[12284, 12471, 35287, 12834, 10426, 16655, 27570, 10022, 10032, 11950, 27633]\n"
     ]
    }
   ],
   "source": [
    "\"\"\"\n",
    "Searches managing_firm_name for firm RegularExpressions \n",
    "and puts the IDs in a dictionary (and /mids/ list)\n",
    "\"\"\"\n",
    "#print(mids, '<- old')\n",
    "managing_firm_ids = {}\n",
    "for firm_name, firm_re in firm_res.items():\n",
    "    if firm_name in force_ids['mids']:\n",
    "        managing_firm_ids[firm_name] = force_ids['mids'][firm_name]\n",
    "        continue\n",
    "    managing_firm_ids[firm_name] = list(dfs['firm'][\n",
    "            dfs['firm'].apply(lambda x: bool(firm_re.search(x.managing_firm_name)), axis=1)\n",
    "        ].managing_firm_id.unique())\n",
    "mids = list(map(int, chain(*managing_firm_ids.values())))\n",
    "print(mids)\n",
    "#pd.merge(left=managing_firms, right=dfs['firmtype'], how='left').drop_duplicates()"
   ]
  },
  {
   "cell_type": "code",
   "execution_count": 12,
   "metadata": {
    "collapsed": false
   },
   "outputs": [],
   "source": [
    "\"\"\"\n",
    "Searches sub_account_name for firm RegularExpressions for \n",
    "the firms that don't match on managing_firm name\n",
    "and puts the IDs in a dictionary (and /saids/ list)\n",
    "\"\"\"\n",
    "#print(saids, '<- old')\n",
    "sub_account_ids, fids = {}, []\n",
    "for firm_name, firm_re in firm_res.items():\n",
    "    if firm_name in force_ids['saids']: # check overrides\n",
    "        sub_account_ids[firm_name] = force_ids['saids'][firm_name]\n",
    "        continue\n",
    "    if len(managing_firm_ids[firm_name]) > 0: # no mids match\n",
    "        sub_account_ids[firm_name] = []\n",
    "        continue\n",
    "    sub_account_ids[firm_name] = list(dfs['fund'][\n",
    "            dfs['fund'].apply(lambda x: bool(firm_re.search(x.sub_account_name)), axis=1)\n",
    "        ].sub_account_id.unique())\n",
    "saids = list(map(int, chain(*sub_account_ids.values())))"
   ]
  },
  {
   "cell_type": "code",
   "execution_count": 13,
   "metadata": {
    "collapsed": false
   },
   "outputs": [],
   "source": [
    "all_ids = []\n",
    "# Add managing firm IDs\n",
    "for search_name, search_ids in managing_firm_ids.items():\n",
    "    for x in managing_firm_ids[search_name]:\n",
    "        all_ids.append(( search_name, x, pd.np.nan))\n",
    "# Add sub account IDs\n",
    "for search_name, search_ids in sub_account_ids.items():\n",
    "    for x in sub_account_ids[search_name]:\n",
    "        all_ids.append(( search_name, pd.np.nan, x))\n",
    "#tmp = (pd.DataFrame(all_ids)\n",
    "  #      .sort(columns='managing_firm_id')\n",
    "#         .to_csv('/home/gaulinmp/Dropbox/Documents/School/Projects/'+\n",
    "#                 'KBP_katrina_bond_to_private/Katrina_Bond_Priceimpact/data/matched_firms.csv'))\n",
    "#pd.DataFrame(all_ids, columns=['name', 'managing_firm_id','sub_account_id'])#.sort(columns='managing_firm_id')"
   ]
  },
  {
   "cell_type": "markdown",
   "metadata": {},
   "source": [
    "# Postgres livin\n",
    "Pull postgres stuffs from things."
   ]
  },
  {
   "cell_type": "code",
   "execution_count": 14,
   "metadata": {
    "collapsed": false
   },
   "outputs": [],
   "source": [
    "def open_pg_connection():\n",
    "    \"\"\"\n",
    "    engine = sa.create_engine('postgresql+psycopg2:///kbd?host=/var/run/postgresql')\n",
    "    metadata = sa.MetaData(engine)\n",
    "    metadata.reflect(bind=engine)\n",
    "    psql_tables = metadata.tables\n",
    "    \"\"\"\n",
    "    global engine, metadata, psql_tables\n",
    "    engine = sa.create_engine('postgresql+psycopg2:///kbd?host=/var/run/postgresql')\n",
    "    metadata = sa.MetaData(engine)\n",
    "    metadata.reflect(bind=engine)\n",
    "    psql_tables = metadata.tables\n",
    "\n",
    "def pg_to_df(query):\n",
    "    \"\"\"\n",
    "    Executes sqlalchemy query on engine connection, and returns dataframe with labeled columns.\n",
    "    If engine does not exist, creates default connection.\n",
    "    \"\"\"\n",
    "    try:\n",
    "        engine.name\n",
    "    except (NameError, AttributeError):\n",
    "        open_pg_connection()\n",
    "    with engine.connect() as connection:\n",
    "        results = (connection\n",
    "                   .execution_options(stream_results=True)\n",
    "                   .execute(query))\n",
    "        dataframe = pd.DataFrame(iter(results))\n",
    "        dataframe.columns = results.keys()\n",
    "    return dataframe\n",
    "\n",
    "def pg_head(query, N=5):\n",
    "    \"\"\"\n",
    "    Executes sqlalchemy query on engine connection, and \n",
    "    returns first N lines in dataframe with labeled columns.\n",
    "    If engine does not exist, creates default connection.\n",
    "    \"\"\"\n",
    "    try:\n",
    "        engine.name\n",
    "    except (NameError, AttributeError):\n",
    "        open_pg_connection()\n",
    "    with engine.connect() as connection:\n",
    "        results = (connection\n",
    "                   .execution_options(stream_results=True)\n",
    "                   .execute(query))\n",
    "        dataframe = pd.DataFrame(results.fetchmany(N))\n",
    "        dataframe.columns = results.keys()\n",
    "    return dataframe\n",
    "\n",
    "def kill_pg_connection():\n",
    "    \"\"\"Kills open connections.\"\"\"\n",
    "    global engine, metadata, psql_tables, query\n",
    "    try: query.close()\n",
    "    except: print(\"Didn't close query.\")\n",
    "    try: engine.dispose()\n",
    "    except: print(\"Didn't dispose engine.\")\n",
    "    (engine, metadata, psql_tables, query) = [None]*4"
   ]
  },
  {
   "cell_type": "code",
   "execution_count": 16,
   "metadata": {
    "collapsed": false
   },
   "outputs": [],
   "source": [
    "open_pg_connection()\n",
    "sql_mf = psql_tables['firm']\n",
    "sql_sa = psql_tables['fund']\n",
    "sql_holding = psql_tables['holding']\n",
    "sql_issuers = psql_tables['issuers']\n",
    "sql_securities = psql_tables['secmast']"
   ]
  },
  {
   "cell_type": "markdown",
   "metadata": {},
   "source": [
    "# Link insurance companies to bonds\n",
    "1. Get treated insurance companies *sub_account_class*\n",
    "1. Get all companies of *sub_account_class*\n",
    "1. Get master file of owned firms (treated and control)\n",
    "1. Link to holdings\n",
    "11. Add treated dummy\n",
    "1. Get master list of treated and control firms\n",
    "1. Get firm-quarter level bond data\n",
    "11. Add treated dummy\n",
    "11. Add *portion_treated* column\n",
    "11. Add *portion_insurance* column\n",
    "\n",
    "## TODO:\n",
    "1. Ratio of EMAXX / Compustat Liabilities\n",
    "1. Treated is all sub accounts under treated managing firms, control is all insurance sub-accounts"
   ]
  },
  {
   "cell_type": "code",
   "execution_count": 17,
   "metadata": {
    "collapsed": true
   },
   "outputs": [],
   "source": [
    "SA_CLASSES = \"LIN PIN RIN INS\".split(' ')\n",
    "MF_CLASSES = \"NO_IMD NO_ILF NO_IND IPC REI\".split(' ')"
   ]
  },
  {
   "cell_type": "code",
   "execution_count": 18,
   "metadata": {
    "collapsed": false
   },
   "outputs": [
    {
     "name": "stdout",
     "output_type": "stream",
     "text": [
      "Treated Sub Account IDs: 141\n"
     ]
    },
    {
     "data": {
      "text/html": [
       "<div>\n",
       "<table border=\"1\" class=\"dataframe\">\n",
       "  <thead>\n",
       "    <tr style=\"text-align: right;\">\n",
       "      <th></th>\n",
       "      <th>managing_firm_id</th>\n",
       "      <th>sub_account_id</th>\n",
       "      <th>sub_account_class</th>\n",
       "    </tr>\n",
       "  </thead>\n",
       "  <tbody>\n",
       "    <tr>\n",
       "      <th>0</th>\n",
       "      <td>10032</td>\n",
       "      <td>22240</td>\n",
       "      <td>PIN</td>\n",
       "    </tr>\n",
       "    <tr>\n",
       "      <th>1</th>\n",
       "      <td>10032</td>\n",
       "      <td>38667</td>\n",
       "      <td>LIN</td>\n",
       "    </tr>\n",
       "    <tr>\n",
       "      <th>2</th>\n",
       "      <td>12834</td>\n",
       "      <td>39108</td>\n",
       "      <td>PIN</td>\n",
       "    </tr>\n",
       "    <tr>\n",
       "      <th>3</th>\n",
       "      <td>27633</td>\n",
       "      <td>20202</td>\n",
       "      <td>PIN</td>\n",
       "    </tr>\n",
       "    <tr>\n",
       "      <th>4</th>\n",
       "      <td>27633</td>\n",
       "      <td>22127</td>\n",
       "      <td>PIN</td>\n",
       "    </tr>\n",
       "  </tbody>\n",
       "</table>\n",
       "</div>"
      ],
      "text/plain": [
       "   managing_firm_id  sub_account_id sub_account_class\n",
       "0             10032           22240               PIN\n",
       "1             10032           38667               LIN\n",
       "2             12834           39108               PIN\n",
       "3             27633           20202               PIN\n",
       "4             27633           22127               PIN"
      ]
     },
     "execution_count": 18,
     "metadata": {},
     "output_type": "execute_result"
    }
   ],
   "source": [
    "# List of affected firms Sub-Account IDs\n",
    "sq_firm_sa = (\n",
    "    sa.select([sql_sa.c.managing_firm_id,\n",
    "               sql_sa.c.sub_account_id,\n",
    "               sql_sa.c.sub_account_class,])\n",
    "      .where(sa.and_(sql_sa.c.sub_account_class.in_(SA_CLASSES),\n",
    "                     sa.or_(sql_sa.c.managing_firm_id.in_(mids),\n",
    "                            sql_sa.c.sub_account_id.in_(saids),),\n",
    "                    sql_sa.c.year==2005,\n",
    "                    sql_sa.c.quarter.in_((2, 3, ))))\n",
    "      .distinct()\n",
    ").alias('sq_firm_sa')\n",
    "\n",
    "sq_sa_ids_treated = (\n",
    "    sa.select([sq_firm_sa.c.sub_account_id,])\n",
    "      .distinct()\n",
    ").alias('sq_sa_ids_treated')\n",
    "\n",
    "print(\"Treated Sub Account IDs:\",len(pg_to_df(sq_sa_ids_treated).index))\n",
    "pg_head(sq_firm_sa)"
   ]
  },
  {
   "cell_type": "code",
   "execution_count": 19,
   "metadata": {
    "collapsed": false
   },
   "outputs": [
    {
     "data": {
      "text/plain": [
       "17"
      ]
     },
     "execution_count": 19,
     "metadata": {},
     "output_type": "execute_result"
    }
   ],
   "source": [
    "tmp = pg_to_df(\n",
    "    sa.select([sq_firm_sa.c.managing_firm_id,])\n",
    "      .distinct()\n",
    ")\n",
    "len(tmp.index)"
   ]
  },
  {
   "cell_type": "code",
   "execution_count": 20,
   "metadata": {
    "collapsed": false
   },
   "outputs": [
    {
     "data": {
      "text/plain": [
       "517"
      ]
     },
     "execution_count": 20,
     "metadata": {},
     "output_type": "execute_result"
    }
   ],
   "source": [
    "tmp = pg_to_df(\n",
    "  sa.select([sql_sa.c.managing_firm_id, sql_mf.c.managing_firm_type, sql_mf.c.managing_firm_name])\n",
    "    .select_from(sa.join(sql_mf, sql_sa,\n",
    "                         sa.and_(sql_mf.c.managing_firm_id==sql_sa.c.managing_firm_id,\n",
    "                                 sql_mf.c.year==sql_sa.c.year,\n",
    "                                 sql_mf.c.quarter==sql_sa.c.quarter,)))\n",
    "    .where(sa.and_(sql_mf.c.managing_firm_type.in_(MF_CLASSES),\n",
    "                   sql_sa.c.sub_account_class.in_(SA_CLASSES),\n",
    "                   sql_sa.c.sub_account_id > 0,\n",
    "                   sql_sa.c.managing_firm_id > 0))\n",
    "    .distinct()\n",
    ")\n",
    "len(tmp.managing_firm_id.unique())"
   ]
  },
  {
   "cell_type": "code",
   "execution_count": 21,
   "metadata": {
    "collapsed": false
   },
   "outputs": [
    {
     "data": {
      "text/html": [
       "<div>\n",
       "<table border=\"1\" class=\"dataframe\">\n",
       "  <thead>\n",
       "    <tr style=\"text-align: right;\">\n",
       "      <th></th>\n",
       "      <th>managing_firm_type</th>\n",
       "      <th>managing_firm_type_name</th>\n",
       "    </tr>\n",
       "  </thead>\n",
       "  <tbody>\n",
       "    <tr>\n",
       "      <th>0</th>\n",
       "      <td>IPC</td>\n",
       "      <td>Insurance Co-Prop &amp; Cas</td>\n",
       "    </tr>\n",
       "    <tr>\n",
       "      <th>932</th>\n",
       "      <td>REI</td>\n",
       "      <td>Reinsurance Company</td>\n",
       "    </tr>\n",
       "  </tbody>\n",
       "</table>\n",
       "</div>"
      ],
      "text/plain": [
       "    managing_firm_type  managing_firm_type_name\n",
       "0                  IPC  Insurance Co-Prop & Cas\n",
       "932                REI      Reinsurance Company"
      ]
     },
     "execution_count": 21,
     "metadata": {},
     "output_type": "execute_result"
    }
   ],
   "source": [
    "tmp.merge(dfs['firmtype'])[['managing_firm_type', 'managing_firm_type_name']].drop_duplicates()"
   ]
  },
  {
   "cell_type": "code",
   "execution_count": 22,
   "metadata": {
    "collapsed": false
   },
   "outputs": [
    {
     "name": "stdout",
     "output_type": "stream",
     "text": [
      "['managing_firm_id', 'year', 'quarter', 'managing_firm_name', 'managing_firm_name_sort', 'managing_firm_type', 'managing_firm_country_code', 'managing_firm_total_par_held', 'managing_firm_number_issues_held']\n"
     ]
    }
   ],
   "source": [
    "print(sql_mf.c.keys())"
   ]
  },
  {
   "cell_type": "markdown",
   "metadata": {},
   "source": [
    "### 2. All firms with correct SA class "
   ]
  },
  {
   "cell_type": "code",
   "execution_count": 23,
   "metadata": {
    "collapsed": false
   },
   "outputs": [
    {
     "name": "stdout",
     "output_type": "stream",
     "text": [
      "Total Sub Account IDs: 1117\n"
     ]
    }
   ],
   "source": [
    "sq_sa_ids_all = (\n",
    "  sa.select([sql_sa.c.sub_account_id])\n",
    "    .select_from(sa.join(sql_mf, sql_sa,\n",
    "                         sa.and_(sql_mf.c.managing_firm_id==sql_sa.c.managing_firm_id,\n",
    "                                 sql_mf.c.year==sql_sa.c.year,\n",
    "                                 sql_mf.c.quarter==sql_sa.c.quarter,)))\n",
    "    .where(sa.and_(sql_mf.c.managing_firm_type.in_(MF_CLASSES),\n",
    "                   sql_sa.c.sub_account_class.in_(SA_CLASSES),\n",
    "                   sql_sa.c.sub_account_id > 0,\n",
    "                   sql_sa.c.managing_firm_id > 0))\n",
    "    .distinct()\n",
    ").alias('sq_sa_ids_all')\n",
    "\n",
    "print(\"Total Sub Account IDs:\",len(pg_to_df(sq_sa_ids_all).index))"
   ]
  },
  {
   "cell_type": "markdown",
   "metadata": {},
   "source": [
    "### 3. All owned firms CUSIP6s"
   ]
  },
  {
   "cell_type": "code",
   "execution_count": 24,
   "metadata": {
    "collapsed": false
   },
   "outputs": [
    {
     "name": "stdout",
     "output_type": "stream",
     "text": [
      "Total CUSIP6s: 14884\n"
     ]
    }
   ],
   "source": [
    "sq_cusip_all = (\n",
    "  sa.select([sql_holding.c.cusip6,])\n",
    "    .where(sql_holding.c.sub_account_id.in_(sq_sa_ids_all)) \n",
    "    .distinct()\n",
    ").alias('sq_cusip_all')\n",
    "\n",
    "print(\"Total CUSIP6s:\",len(pg_to_df(sq_cusip_all).index))"
   ]
  },
  {
   "cell_type": "markdown",
   "metadata": {},
   "source": [
    "### 4. Link all SA IDs to Holding\n",
    "**`sq_holding_all`** will have cusip6, sub_account, year, quarter level obervations.\n",
    "Group on cusip6, year, quarter to match to Compustat."
   ]
  },
  {
   "cell_type": "code",
   "execution_count": 25,
   "metadata": {
    "collapsed": false
   },
   "outputs": [],
   "source": [
    "sq_holding_all = (\n",
    "  sa.select(sql_holding.c + [\n",
    "             sa.case([(sql_holding.c.sub_account_id.in_(sq_sa_ids_treated), 1)],\n",
    "                     else_=0).label('treated'),\n",
    "             sa.case([(sql_holding.c.sub_account_id.in_(sq_sa_ids_all), 1)],\n",
    "                     else_=0).label('insurance'),])\n",
    "    #.select_from(sa.join(sql_holding, sq_sa_ids, \n",
    "    #                     sql_holding.c.sub_account_id == sq_sa_ids.c.sub_account_id, isouter=True))\n",
    "    .where(sa.and_(sql_holding.c.cusip6.in_(sq_cusip_all),\n",
    "                   sa.between(sql_holding.c.year, 2004, 2007),))\n",
    ").alias('sq_holding_all')"
   ]
  },
  {
   "cell_type": "markdown",
   "metadata": {},
   "source": [
    "### 5. Link all SA IDs to Holding\n",
    "**`sq_holding_all_collapsed`** will have cusip6, year, quarter level obervations.\n",
    "Importantly, columns **`par_amount`** and **`par_amount_treated`** will be the amount of outstanding bonds held by errbudy and affected insurance companies respectively."
   ]
  },
  {
   "cell_type": "code",
   "execution_count": 26,
   "metadata": {
    "collapsed": false
   },
   "outputs": [],
   "source": [
    "sq_holding_all_collapsed = (\n",
    "  sa.select([sq_holding_all.c.cusip6,\n",
    "             sq_holding_all.c.year,\n",
    "             sq_holding_all.c.quarter,\n",
    "             sa.func.sum(sq_holding_all.c.par_amount).label('par'),\n",
    "             sa.func.sum(sq_holding_all.c.par_amount_change).label('par_change'),\n",
    "             sa.func.sum(sq_holding_all.c.par_amount \n",
    "                         * sq_holding_all.c.insurance).label('par_insurance'),\n",
    "             sa.func.sum(sq_holding_all.c.par_amount_change \n",
    "                         * sq_holding_all.c.insurance).label('par_change_insurance'),\n",
    "             sa.func.sum(sq_holding_all.c.par_amount \n",
    "                         * sq_holding_all.c.treated).label('par_treated'),\n",
    "             sa.func.sum(sq_holding_all.c.par_amount_change \n",
    "                         * sq_holding_all.c.treated).label('par_change_treated'),])\n",
    "    .distinct()\n",
    "    .group_by(sq_holding_all.c.cusip6,\n",
    "              sq_holding_all.c.year,\n",
    "              sq_holding_all.c.quarter,)\n",
    "    .order_by(sq_holding_all.c.year,\n",
    "              sq_holding_all.c.quarter,\n",
    "              sq_holding_all.c.cusip6,)\n",
    ").alias('sq_holding_all_collapsed')"
   ]
  },
  {
   "cell_type": "markdown",
   "metadata": {},
   "source": [
    "### 6. Link in firm names for matching."
   ]
  },
  {
   "cell_type": "code",
   "execution_count": 27,
   "metadata": {
    "collapsed": true
   },
   "outputs": [],
   "source": [
    "sq_holding_final = (\n",
    "  sa.select(sq_holding_all_collapsed.c+\n",
    "            [sql_issuers.c.name,\n",
    "             sql_issuers.c.ticker,\n",
    "             sql_issuers.c.country,])\n",
    "    .select_from(sa.join(sq_holding_all_collapsed,  # left\n",
    "                         sql_issuers,  # right\n",
    "                         sa.and_(sq_holding_all_collapsed.c.cusip6 == sql_issuers.c.cusip6,\n",
    "                                 sq_holding_all_collapsed.c.year == sql_issuers.c.year,\n",
    "                                 sq_holding_all_collapsed.c.quarter == sql_issuers.c.quarter,)))\n",
    "    .distinct(sq_holding_all_collapsed.c.year,\n",
    "              sq_holding_all_collapsed.c.quarter,\n",
    "              sq_holding_all_collapsed.c.cusip6,\n",
    "              sq_holding_all_collapsed.c.par_treated,)\n",
    ").alias('sq_holding_final')"
   ]
  },
  {
   "cell_type": "markdown",
   "metadata": {},
   "source": [
    "### 7. Export to csv file"
   ]
  },
  {
   "cell_type": "code",
   "execution_count": 28,
   "metadata": {
    "collapsed": true
   },
   "outputs": [],
   "source": [
    "df_emaxx = pg_to_df(sq_holding_final)\n",
    "for v in [x for x in df_emaxx.columns if x[:3]=='par']:\n",
    "    df_emaxx[v] = df_emaxx[v].apply(int)\n",
    "df_emaxx = add_column(df_emaxx, 'date', lambda x: dt.datetime(x['year'], x['quarter']*3, 30))\n",
    "df_emaxx = add_column(df_emaxx, 'iown', lambda x: x['par_insurance']/x['par'] if x['par'] > 0 else 0)\n",
    "df_emaxx = add_column(df_emaxx, 'iown_treated', lambda x: x['par_treated']/x['par'] if x['par'] > 0 else 0)"
   ]
  },
  {
   "cell_type": "code",
   "execution_count": 29,
   "metadata": {
    "collapsed": true
   },
   "outputs": [],
   "source": [
    "#df_emaxx.sort(columns='cusip6,year,quarter'.split(',')\n",
    "#             ).to_csv(os.path.join(ROOTDIR,'all_out.tsv'), index=False)"
   ]
  },
  {
   "cell_type": "code",
   "execution_count": 32,
   "metadata": {
    "collapsed": false
   },
   "outputs": [
    {
     "name": "stdout",
     "output_type": "stream",
     "text": [
      "2996\n"
     ]
    },
    {
     "data": {
      "text/plain": [
       "cusip6                          object\n",
       "year                             int64\n",
       "quarter                          int64\n",
       "par                              int64\n",
       "par_change                       int64\n",
       "par_insurance                    int64\n",
       "par_change_insurance             int64\n",
       "par_treated                      int64\n",
       "par_change_treated               int64\n",
       "name                            object\n",
       "ticker                          object\n",
       "country                         object\n",
       "date                    datetime64[ns]\n",
       "iown                           float64\n",
       "iown_treated                   float64\n",
       "dtype: object"
      ]
     },
     "execution_count": 32,
     "metadata": {},
     "output_type": "execute_result"
    }
   ],
   "source": [
    "print(len(df_emaxx[(df_emaxx.year==2005) & (df_emaxx.quarter == 2) & (df_emaxx.par_treated > 0)].cusip6.unique()))\n",
    "df_emaxx.dtypes"
   ]
  },
  {
   "cell_type": "code",
   "execution_count": 31,
   "metadata": {
    "collapsed": false
   },
   "outputs": [
    {
     "data": {
      "text/html": [
       "<div>\n",
       "<table border=\"1\" class=\"dataframe\">\n",
       "  <thead>\n",
       "    <tr style=\"text-align: right;\">\n",
       "      <th></th>\n",
       "      <th>count</th>\n",
       "      <th>mean</th>\n",
       "      <th>std</th>\n",
       "      <th>min</th>\n",
       "      <th>25%</th>\n",
       "      <th>50%</th>\n",
       "      <th>75%</th>\n",
       "      <th>max</th>\n",
       "    </tr>\n",
       "  </thead>\n",
       "  <tbody>\n",
       "    <tr>\n",
       "      <th>year</th>\n",
       "      <td>4777</td>\n",
       "      <td>2005.000</td>\n",
       "      <td>0.000</td>\n",
       "      <td>2.005e+03</td>\n",
       "      <td>2005.000</td>\n",
       "      <td>2005.000</td>\n",
       "      <td>2005.000</td>\n",
       "      <td>2005</td>\n",
       "    </tr>\n",
       "    <tr>\n",
       "      <th>quarter</th>\n",
       "      <td>4777</td>\n",
       "      <td>2.000</td>\n",
       "      <td>0.000</td>\n",
       "      <td>2.000e+00</td>\n",
       "      <td>2.000</td>\n",
       "      <td>2.000</td>\n",
       "      <td>2.000</td>\n",
       "      <td>2</td>\n",
       "    </tr>\n",
       "    <tr>\n",
       "      <th>par</th>\n",
       "      <td>4777</td>\n",
       "      <td>383244.593</td>\n",
       "      <td>821547.259</td>\n",
       "      <td>7.000e+00</td>\n",
       "      <td>37771.000</td>\n",
       "      <td>141252.000</td>\n",
       "      <td>379128.000</td>\n",
       "      <td>15801676</td>\n",
       "    </tr>\n",
       "    <tr>\n",
       "      <th>par_change</th>\n",
       "      <td>4777</td>\n",
       "      <td>18571.103</td>\n",
       "      <td>87397.604</td>\n",
       "      <td>-8.807e+05</td>\n",
       "      <td>-565.000</td>\n",
       "      <td>0.000</td>\n",
       "      <td>12506.000</td>\n",
       "      <td>1582802</td>\n",
       "    </tr>\n",
       "    <tr>\n",
       "      <th>par_insurance</th>\n",
       "      <td>4777</td>\n",
       "      <td>26857.880</td>\n",
       "      <td>64761.140</td>\n",
       "      <td>1.000e+00</td>\n",
       "      <td>1400.000</td>\n",
       "      <td>7205.000</td>\n",
       "      <td>25000.000</td>\n",
       "      <td>1251717</td>\n",
       "    </tr>\n",
       "    <tr>\n",
       "      <th>par_change_insurance</th>\n",
       "      <td>4777</td>\n",
       "      <td>874.581</td>\n",
       "      <td>8946.499</td>\n",
       "      <td>-8.811e+04</td>\n",
       "      <td>0.000</td>\n",
       "      <td>0.000</td>\n",
       "      <td>55.000</td>\n",
       "      <td>300050</td>\n",
       "    </tr>\n",
       "    <tr>\n",
       "      <th>par_treated</th>\n",
       "      <td>4777</td>\n",
       "      <td>14995.928</td>\n",
       "      <td>33432.469</td>\n",
       "      <td>0.000e+00</td>\n",
       "      <td>0.000</td>\n",
       "      <td>2000.000</td>\n",
       "      <td>16400.000</td>\n",
       "      <td>510564</td>\n",
       "    </tr>\n",
       "    <tr>\n",
       "      <th>par_change_treated</th>\n",
       "      <td>4777</td>\n",
       "      <td>451.616</td>\n",
       "      <td>6039.647</td>\n",
       "      <td>-9.500e+04</td>\n",
       "      <td>0.000</td>\n",
       "      <td>0.000</td>\n",
       "      <td>0.000</td>\n",
       "      <td>119968</td>\n",
       "    </tr>\n",
       "    <tr>\n",
       "      <th>iown</th>\n",
       "      <td>4777</td>\n",
       "      <td>0.195</td>\n",
       "      <td>0.293</td>\n",
       "      <td>3.380e-06</td>\n",
       "      <td>0.027</td>\n",
       "      <td>0.069</td>\n",
       "      <td>0.186</td>\n",
       "      <td>1</td>\n",
       "    </tr>\n",
       "    <tr>\n",
       "      <th>iown_treated</th>\n",
       "      <td>4777</td>\n",
       "      <td>0.071</td>\n",
       "      <td>0.162</td>\n",
       "      <td>0.000e+00</td>\n",
       "      <td>0.000</td>\n",
       "      <td>0.012</td>\n",
       "      <td>0.066</td>\n",
       "      <td>1</td>\n",
       "    </tr>\n",
       "  </tbody>\n",
       "</table>\n",
       "</div>"
      ],
      "text/plain": [
       "                      count        mean         std        min        25%  \\\n",
       "year                   4777    2005.000       0.000  2.005e+03   2005.000   \n",
       "quarter                4777       2.000       0.000  2.000e+00      2.000   \n",
       "par                    4777  383244.593  821547.259  7.000e+00  37771.000   \n",
       "par_change             4777   18571.103   87397.604 -8.807e+05   -565.000   \n",
       "par_insurance          4777   26857.880   64761.140  1.000e+00   1400.000   \n",
       "par_change_insurance   4777     874.581    8946.499 -8.811e+04      0.000   \n",
       "par_treated            4777   14995.928   33432.469  0.000e+00      0.000   \n",
       "par_change_treated     4777     451.616    6039.647 -9.500e+04      0.000   \n",
       "iown                   4777       0.195       0.293  3.380e-06      0.027   \n",
       "iown_treated           4777       0.071       0.162  0.000e+00      0.000   \n",
       "\n",
       "                             50%         75%       max  \n",
       "year                    2005.000    2005.000      2005  \n",
       "quarter                    2.000       2.000         2  \n",
       "par                   141252.000  379128.000  15801676  \n",
       "par_change                 0.000   12506.000   1582802  \n",
       "par_insurance           7205.000   25000.000   1251717  \n",
       "par_change_insurance       0.000      55.000    300050  \n",
       "par_treated             2000.000   16400.000    510564  \n",
       "par_change_treated         0.000       0.000    119968  \n",
       "iown                       0.069       0.186         1  \n",
       "iown_treated               0.012       0.066         1  "
      ]
     },
     "execution_count": 31,
     "metadata": {},
     "output_type": "execute_result"
    }
   ],
   "source": [
    "df_emaxx[(df_emaxx.year==2005) & (df_emaxx.quarter == 2) & (df_emaxx.par_insurance > 0)].describe().transpose()"
   ]
  },
  {
   "cell_type": "markdown",
   "metadata": {},
   "source": [
    "## Par Amounts aggregated from HOLDINGS database"
   ]
  },
  {
   "cell_type": "code",
   "execution_count": null,
   "metadata": {
    "collapsed": false
   },
   "outputs": [],
   "source": [
    "tmp = df_emaxx.pivot_table(index=['date',], aggfunc='mean')\n",
    "if plots:\n",
    "    fig, ax1 = plt.subplots(figsize=(15,4))\n",
    "    for i in (0,1):\n",
    "        axtmp = ax1.twinx() if i else ax1\n",
    "        axtmp.plot(tmp.index, \n",
    "                 tmp.iown_treated if i else tmp.iown,\n",
    "                 'bo-' if i else 'ro--',\n",
    "                 label=\"Treated\" if i else \"Control\")\n",
    "    ax1.axvline(color='black', x=KATRINA_DATE)\n",
    "    axtmp.legend(loc=0)\n",
    "    fig.suptitle('Mean Par Amount Outstanding')"
   ]
  },
  {
   "cell_type": "code",
   "execution_count": null,
   "metadata": {
    "collapsed": false
   },
   "outputs": [],
   "source": [
    "tmp = df_emaxx.pivot_table(index=['date',], aggfunc='mean')\n",
    "if plots:\n",
    "    fig, ax1 = plt.subplots(figsize=(15,4))\n",
    "    for i in (0,1):\n",
    "        axtmp = ax1.twinx() if i else ax1\n",
    "        axtmp.plot(tmp.index, \n",
    "                 tmp.par_treated if i else tmp.par-tmp.par_treated,\n",
    "                 'bo-' if i else 'ro--',\n",
    "                 label=\"Treated\" if i else \"Control\")\n",
    "    ax1.axvline(color='black', x=KATRINA_DATE)\n",
    "    axtmp.legend(loc=0)\n",
    "    fig.suptitle('Mean Par Amount Outstanding')"
   ]
  },
  {
   "cell_type": "markdown",
   "metadata": {},
   "source": [
    "## Change in Par Amounts aggregated from HOLDINGS database"
   ]
  },
  {
   "cell_type": "code",
   "execution_count": null,
   "metadata": {
    "collapsed": false
   },
   "outputs": [],
   "source": [
    "if plots:\n",
    "    fig, ax1 = plt.subplots(figsize=(15,4))\n",
    "    for i in (0,1):\n",
    "        tmp_var = tmp.par_treated if i else tmp.par\n",
    "        ax1.plot(tmp.index, \n",
    "                 tmp_var/tmp_var.shift(),\n",
    "                 'bo-' if i else 'ro--',\n",
    "                 label=\"Treated\" if i else \"Control\")\n",
    "    ax1.axvline(color='black', x=KATRINA_DATE)\n",
    "    ax1.legend(loc=0)\n",
    "    fig.suptitle('Change in Mean Par Amount Outstanding')"
   ]
  },
  {
   "cell_type": "code",
   "execution_count": null,
   "metadata": {
    "collapsed": true
   },
   "outputs": [],
   "source": [
    "tmp = df_emaxx.copy().sort(columns=['cusip6', 'date'])"
   ]
  },
  {
   "cell_type": "code",
   "execution_count": null,
   "metadata": {
    "collapsed": false
   },
   "outputs": [],
   "source": [
    "tmp['lag_par'] = tmp.groupby('cusip6').par.shift()\n",
    "tmp['lag_par_treated'] = tmp.groupby('cusip6').par_treated.shift()\n",
    "tmp['lag_iown'] = tmp.groupby('cusip6').iown.shift()\n",
    "tmp['lag_iown_treated'] = tmp.groupby('cusip6').iown_treated.shift()\n",
    "tmp['iown_change'] = tmp.iown - tmp.lag_iown\n",
    "tmp['iown_change_treated'] = tmp.iown_treated - tmp.lag_iown_treated"
   ]
  },
  {
   "cell_type": "code",
   "execution_count": null,
   "metadata": {
    "collapsed": false
   },
   "outputs": [],
   "source": [
    "formula = \"iown_change ~ lag_iown\"\n",
    "model = sm.OLS.from_formula(formula, tmp[(tmp.year == 2005) & (tmp.quarter == 2)], missing='drop')\n",
    "fit = model.fit()\n",
    "summary = str(fit.summary2())\n",
    "print(summary)\n",
    "formula = \"iown_change ~ lag_iown\"\n",
    "model = sm.OLS.from_formula(formula, tmp[(tmp.year == 2005) & (tmp.quarter == 3)], missing='drop')\n",
    "fit = model.fit()\n",
    "summary = str(fit.summary2())\n",
    "print()\n",
    "print(summary)"
   ]
  },
  {
   "cell_type": "code",
   "execution_count": null,
   "metadata": {
    "collapsed": false
   },
   "outputs": [],
   "source": [
    "formula = \"iown_change_treated ~ lag_iown_treated\"\n",
    "model = sm.OLS.from_formula(formula, tmp[(tmp.year == 2005) & (tmp.quarter == 2)], missing='drop')\n",
    "fit = model.fit()\n",
    "summary = str(fit.summary2())\n",
    "#tmp.loc[:,'reg_resid'] = fit.resid\n",
    "print(summary)\n",
    "formula = \"iown_change_treated ~ lag_iown_treated\"\n",
    "model = sm.OLS.from_formula(formula, tmp[(tmp.year == 2005) & (tmp.quarter == 3)], missing='drop')\n",
    "fit = model.fit()\n",
    "summary = str(fit.summary2())\n",
    "#tmp.loc[:,'reg_resid'] = fit.resid\n",
    "print(summary)"
   ]
  },
  {
   "cell_type": "code",
   "execution_count": null,
   "metadata": {
    "collapsed": false
   },
   "outputs": [],
   "source": [
    "print(\"E[treated/par]={:0.4f}\\nE[treated/par|treated>0]={:0.4f}\".format(\n",
    "(df_emaxx[df_emaxx.par > 0].par_treated/(df_emaxx[df_emaxx.par > 0].par)).mean(), \\\n",
    "(df_emaxx[df_emaxx.par_treated > 0].par_treated/(df_emaxx[df_emaxx.par_treated > 0].par)).mean()))"
   ]
  },
  {
   "cell_type": "markdown",
   "metadata": {},
   "source": [
    "# Sub-account level holding changes"
   ]
  },
  {
   "cell_type": "code",
   "execution_count": null,
   "metadata": {
    "collapsed": false
   },
   "outputs": [],
   "source": [
    "sq_sa_holding = (\n",
    "  sa.select(sql_sa.c +\n",
    "            [sa.case([(sql_sa.c.sub_account_id.in_(sq_sa_ids_treated), 1)],\n",
    "                     else_=0).label('treated'),])\n",
    "    .where(sa.and_(sql_sa.c.sub_account_class.in_(SA_CLASSES),\n",
    "                   sql_sa.c.sub_account_id > 0,\n",
    "                   sql_sa.c.sub_account_country == \"USA\"))\n",
    "    .distinct()\n",
    ").alias('sq_sa_holding')"
   ]
  },
  {
   "cell_type": "code",
   "execution_count": null,
   "metadata": {
    "collapsed": false
   },
   "outputs": [],
   "source": [
    "df_emaxx_sa = pg_to_df(sq_sa_holding)\n",
    "df_emaxx_sa = add_column(df_emaxx_sa, 'date', lambda x: dt.datetime(x['year'], x['quarter']*3, 30))"
   ]
  },
  {
   "cell_type": "code",
   "execution_count": null,
   "metadata": {
    "collapsed": false
   },
   "outputs": [],
   "source": [
    "tmp = df_emaxx_sa.pivot_table(index=['date','treated'], aggfunc='sum')\n",
    "tmp.head(4).transpose()"
   ]
  },
  {
   "cell_type": "code",
   "execution_count": null,
   "metadata": {
    "collapsed": false
   },
   "outputs": [],
   "source": [
    "if plots:\n",
    "    fig, ax1 = plt.subplots(figsize=(15,4))\n",
    "    for i in (0,1):\n",
    "        axtmp = ax1.twinx() if i else ax1\n",
    "        axtmp.plot(tmp.xs(i, level='treated').index, \n",
    "                 tmp.xs(i, level='treated').total_par_amt_held,\n",
    "                 'bo-' if i else 'ro--',\n",
    "                 label=\"Treated\" if i else \"Control\")\n",
    "    ax1.axvline(color='black', x=KATRINA_DATE)\n",
    "    ax1.legend()\n",
    "    fig.suptitle('Total Par Amount Outstanding')"
   ]
  },
  {
   "cell_type": "code",
   "execution_count": null,
   "metadata": {
    "collapsed": false
   },
   "outputs": [],
   "source": [
    "if plots:\n",
    "    fig, ax1 = plt.subplots(figsize=(15,4))\n",
    "    for i in (0,1):\n",
    "        tmpi = tmp.xs(i, level='treated')\n",
    "        ax1.plot(tmpi.index,\n",
    "                 tmpi.total_par_amt_held/tmpi.total_par_amt_held.shift(),\n",
    "                 'bo-' if i else 'ro--',\n",
    "                 label=\"Treated\" if i else \"Control\")\n",
    "    ax1.axvline(color='black', x=KATRINA_DATE)\n",
    "    ax1.legend()\n",
    "    fig.suptitle('Total Par Amount Growth [t/(t-1)]')"
   ]
  },
  {
   "cell_type": "code",
   "execution_count": null,
   "metadata": {
    "collapsed": false
   },
   "outputs": [],
   "source": [
    "if plots:\n",
    "    fig, ax1 = plt.subplots(figsize=(15,4))\n",
    "    for i in (0,1):\n",
    "        axtmp = ax1.twinx() if i else ax1\n",
    "        axtmp.plot(tmp.xs(i, level='treated').index, \n",
    "                 tmp.xs(i, level='treated').total_number_bonds_held,\n",
    "                 'bo-' if i else 'ro--',\n",
    "                 label=\"Treated\" if i else \"Control\")\n",
    "    ax1.axvline(color='black', x=KATRINA_DATE)\n",
    "    ax1.legend()\n",
    "    fig.suptitle('Total Number Outstanding')"
   ]
  },
  {
   "cell_type": "code",
   "execution_count": null,
   "metadata": {
    "collapsed": false
   },
   "outputs": [],
   "source": [
    "tmp = df_emaxx_sa.pivot_table(index=['date','treated'], aggfunc='mean')"
   ]
  },
  {
   "cell_type": "code",
   "execution_count": null,
   "metadata": {
    "collapsed": false
   },
   "outputs": [],
   "source": [
    "if plots:\n",
    "    fig, ax1 = plt.subplots(figsize=(15,4))\n",
    "    for i in (0,1):\n",
    "        axtmp = ax1.twinx() if i else ax1\n",
    "        axtmp.plot(tmp.xs(i, level='treated').index, \n",
    "                 tmp.xs(i, level='treated').total_par_amt_held,\n",
    "                 'bo-' if i else 'ro--',\n",
    "                 label=\"Treated\" if i else \"Control\")\n",
    "    ax1.axvline(color='black', x=KATRINA_DATE)\n",
    "    ax1.legend()\n",
    "    fig.suptitle('Average Par Amount Outstanding')"
   ]
  },
  {
   "cell_type": "code",
   "execution_count": null,
   "metadata": {
    "collapsed": false
   },
   "outputs": [],
   "source": [
    "if plots:\n",
    "    fig, ax1 = plt.subplots(figsize=(15,4))\n",
    "    for i in (0,1):\n",
    "        tmpi = tmp.xs(i, level='treated')\n",
    "        ax1.plot(tmpi.index,\n",
    "                 tmpi.total_par_amt_held/tmpi.total_par_amt_held.shift(),\n",
    "                 'bo-' if i else 'ro--',\n",
    "                 label=\"Treated\" if i else \"Control\")\n",
    "    ax1.axvline(color='black', x=KATRINA_DATE)\n",
    "    ax1.legend()\n",
    "    fig.suptitle('Mean Par Amount Growth [t/(t-1)]')"
   ]
  },
  {
   "cell_type": "code",
   "execution_count": null,
   "metadata": {
    "collapsed": false
   },
   "outputs": [],
   "source": [
    "if plots:\n",
    "    fig, ax1 = plt.subplots(figsize=(15,4))\n",
    "    for i in (0,1):\n",
    "        axtmp = ax1.twinx() if i else ax1\n",
    "        axtmp.plot(tmp.xs(i, level='treated').index, \n",
    "                 tmp.xs(i, level='treated').total_number_bonds_held,\n",
    "                 'bo-' if i else 'ro--',\n",
    "                 label=\"Treated\" if i else \"Control\")\n",
    "    ax1.axvline(color='black', x=KATRINA_DATE)\n",
    "    ax1.legend()\n",
    "    fig.suptitle('Total Number Outstanding')"
   ]
  },
  {
   "cell_type": "code",
   "execution_count": null,
   "metadata": {
    "collapsed": false
   },
   "outputs": [],
   "source": [
    "if plots:\n",
    "    fig, ax1 = plt.subplots(figsize=(15,4))\n",
    "    for i in (0,1):\n",
    "        tmpi = tmp.xs(i, level='treated')\n",
    "        ax1.plot(tmpi.index,\n",
    "                 tmpi.total_number_bonds_held/tmpi.total_number_bonds_held.shift(),\n",
    "                 'bo-' if i else 'ro--',\n",
    "                 label=\"Treated\" if i else \"Control\")\n",
    "    ax1.axvline(color='black', x=KATRINA_DATE)\n",
    "    ax1.legend()\n",
    "    fig.suptitle('Mean Number Growth [t/(t-1)]')"
   ]
  },
  {
   "cell_type": "markdown",
   "metadata": {},
   "source": [
    "# Random descriptives"
   ]
  },
  {
   "cell_type": "code",
   "execution_count": null,
   "metadata": {
    "collapsed": false
   },
   "outputs": [],
   "source": [
    "print(\"<b>EMAXX sample</b>\")\n",
    "df_emaxx.head(2)"
   ]
  },
  {
   "cell_type": "code",
   "execution_count": null,
   "metadata": {
    "collapsed": false
   },
   "outputs": [],
   "source": [
    "df_comp = dfs['compcusip'][dfs['compcusip'].year.notnull()]\n",
    "df_comp.columns = [x.lower() for x in df_comp.columns]\n",
    "HTML(\"<b>Compustat sample</b>\")\n",
    "df_comp.head(2)"
   ]
  },
  {
   "cell_type": "code",
   "execution_count": null,
   "metadata": {
    "collapsed": false
   },
   "outputs": [],
   "source": [
    "df_b = pd.merge(\n",
    "    df_emaxx[df_emaxx.country == \"USA\"],\n",
    "    df_comp[df_comp.fic == \"USA\"],\n",
    "    how='outer')\n",
    "df_b['emaxx'] = df_b.par.notnull() + 0\n",
    "df_b['comp'] = df_b.permno.notnull() + 0\n",
    "df_b['both'] = (df_b.emaxx == df_b.comp) + 0"
   ]
  },
  {
   "cell_type": "code",
   "execution_count": null,
   "metadata": {
    "collapsed": false
   },
   "outputs": [],
   "source": [
    "df_b[(df_b.year==2005)&(df_b.quarter==3)].describe().transpose()"
   ]
  },
  {
   "cell_type": "code",
   "execution_count": null,
   "metadata": {
    "collapsed": false
   },
   "outputs": [],
   "source": [
    "df_b[(df_b.year==2005)&(df_b.quarter==3)&(df_b.both==1)].describe().transpose()"
   ]
  },
  {
   "cell_type": "markdown",
   "metadata": {},
   "source": [
    "### Previous run results"
   ]
  },
  {
   "cell_type": "code",
   "execution_count": null,
   "metadata": {
    "collapsed": false
   },
   "outputs": [],
   "source": [
    "df_b[(df_b.year==2005)&(df_b.quarter==3)].describe().transpose()"
   ]
  },
  {
   "cell_type": "code",
   "execution_count": null,
   "metadata": {
    "collapsed": false
   },
   "outputs": [],
   "source": [
    "df_b[(df_b.year==2005)&(df_b.quarter==3)&(df_b.both==1)].describe().transpose()"
   ]
  },
  {
   "cell_type": "code",
   "execution_count": null,
   "metadata": {
    "collapsed": false
   },
   "outputs": [],
   "source": [
    "df_emaxx.dtypes"
   ]
  },
  {
   "cell_type": "code",
   "execution_count": null,
   "metadata": {
    "collapsed": false
   },
   "outputs": [],
   "source": [
    "query = (sa.select(columns=[sql_holding.c.year, \n",
    "                            sql_holding.c.quarter, \n",
    "                            sa.func.count().label('num')]\n",
    "                   , limit=None)\n",
    "           .where(sa.and_(sql_holding.c.managing_firm_id.in_(mids),\n",
    "                          sql_holding.c.year.in_([2004,2005,2006,2007])))\n",
    "           .group_by(sql_holding.c.year, sql_holding.c.quarter)\n",
    "           .order_by(sql_holding.c.year, sql_holding.c.quarter)\n",
    "        )\n",
    "tmp = pg_to_df(query)\n",
    "tmp = add_column(tmp, 'date', lambda x: dt.datetime(x['year'], x['quarter']*3, 30))\n",
    "zmr = 300\n",
    "if plots:\n",
    "    fig, ax1 = plt.subplots(figsize=(15,4))\n",
    "    ax1.plot(tmp.date, tmp.num, 'bo-')\n",
    "    ax1.axvline(color='black', x=KATRINA_DATE)\n",
    "    fig.suptitle('Number of Bonds Outstanding (MgrFirm)')"
   ]
  },
  {
   "cell_type": "code",
   "execution_count": null,
   "metadata": {
    "collapsed": false
   },
   "outputs": [],
   "source": [
    "# List of firms with type found in searched firms\n",
    "sq_firm_types = (\n",
    "      sa.select([sql_mf.c.managing_firm_type])\n",
    "        .where(sql_mf.c.managing_firm_id.in_(mids))\n",
    "        .distinct()\n",
    "    ).alias('sq_firm_types')\n",
    "\n",
    "# List of all firms, control and treated of right type\n",
    "sq_sample_firms = (\n",
    "      sa.select([sql_mf.c.managing_firm_id], distinct=True)\n",
    "        .where(sa.and_(\n",
    "            sql_mf.c.managing_firm_type.in_(sq_firm_types)\n",
    "            ,sql_mf.c.managing_firm_id.notin_(mids)\n",
    "        ))\n",
    "    ).alias('sq_sample_firms')\n",
    "\n",
    "# Count holdings for sample firms.\n",
    "query = (sa.select([sql_holding.c.year, \n",
    "                    sql_holding.c.quarter, \n",
    "                    sa.func.count().label('num')], limit=500)\n",
    "           .distinct()\n",
    "           .where(sa.and_(sql_holding.c.managing_firm_id.in_(sq_sample_firms),\n",
    "                          sql_holding.c.year.in_([2004,2005,2006,2007])))\n",
    "           .group_by(sql_holding.c.year, sql_holding.c.quarter)\n",
    "           .order_by(sql_holding.c.year, sql_holding.c.quarter)\n",
    "        )\n",
    "\n",
    "tmp = pg_to_df(query)\n",
    "tmp = add_column(tmp, 'date', lambda x: dt.datetime(x['year'], x['quarter']*3, 30))\n",
    "zmr = 300\n",
    "if plots:\n",
    "    fig, ax1 = plt.subplots(figsize=(15,4))\n",
    "    ax1.plot(tmp.date, tmp.num, 'bo-')\n",
    "    ax1.axvline(color='black', x=KATRINA_DATE)\n",
    "    fig.suptitle('Number of Bonds Outstanding (MgrFirm)')"
   ]
  },
  {
   "cell_type": "code",
   "execution_count": null,
   "metadata": {
    "collapsed": false
   },
   "outputs": [],
   "source": [
    "query = (sa.select(columns=[sql_holding.c.year, \n",
    "                            sql_holding.c.quarter, \n",
    "                            sa.func.count().label('num')]\n",
    "                   , limit=None)\n",
    "           .where(sa.and_(sql_holding.c.sub_account_id.in_(saids),\n",
    "                          sql_holding.c.year.in_([2004,2005,2006])))\n",
    "           .group_by(sql_holding.c.year, sql_holding.c.quarter)\n",
    "           .order_by(sql_holding.c.year, sql_holding.c.quarter)\n",
    "        )\n",
    "tmp = pg_to_df(query)\n",
    "tmp = add_column(tmp, 'date', lambda x: dt.datetime(x['year'], x['quarter']*3, 30))\n",
    "zmr = 300\n",
    "if plots:\n",
    "    fig, ax1 = plt.subplots(figsize=(15,4))\n",
    "    ax1.plot(tmp.date, tmp.num, 'bo-')\n",
    "    ax1.axvline(color='black', x=KATRINA_DATE)\n",
    "    fig.suptitle('Number of Bonds Outstanding (SubAcct)')"
   ]
  },
  {
   "cell_type": "code",
   "execution_count": null,
   "metadata": {
    "collapsed": false
   },
   "outputs": [],
   "source": [
    "stmnt = (sa.select(columns=sql_holding.c, limit=None)\n",
    "           .where(sql_holding.c.managing_firm_id.in_(mids)) \n",
    "        ).alias('stmnt')\n",
    "query = (sa.select(columns=[stmnt.c.year,\n",
    "                            stmnt.c.quarter,\n",
    "                            sa.func.sum(stmnt.c.par_amount_change).label('ave_par_amount_change')]\n",
    "                   , limit=None)\n",
    "            .group_by(stmnt.c.year, stmnt.c.quarter)\n",
    "            .order_by(stmnt.c.year, stmnt.c.quarter)\n",
    "        )\n",
    "dataframe = pg_to_df(query)\n",
    "dataframe.head()"
   ]
  },
  {
   "cell_type": "code",
   "execution_count": null,
   "metadata": {
    "collapsed": false
   },
   "outputs": [],
   "source": [
    "stmnt = (sa.select(columns=sql_holding.c, limit=None)\n",
    "           .where(sql_holding.c.managing_firm_id.notin_(mids)) \n",
    "        ).alias('stmnt')\n",
    "query = (sa.select(columns=[stmnt.c.year,\n",
    "                            stmnt.c.quarter,\n",
    "                            sa.func.sum(stmnt.c.par_amount_change).label('ave_par_amount_change')]\n",
    "                   , limit=None)\n",
    "            .group_by(stmnt.c.year, stmnt.c.quarter)\n",
    "            .order_by(stmnt.c.year, stmnt.c.quarter)\n",
    "        )\n",
    "with engine.connect() as connection:\n",
    "    results = (connection\n",
    "               .execution_options(stream_results=True)\n",
    "               .execute(query))\n",
    "    dataframe2 = pd.DataFrame(iter(results))\n",
    "    dataframe2.columns = results.keys()\n",
    "    dataframe2.sort(columns=['year','quarter'])\n",
    "dataframe2.head()"
   ]
  },
  {
   "cell_type": "code",
   "execution_count": null,
   "metadata": {
    "collapsed": false
   },
   "outputs": [],
   "source": [
    "lookup = 'forecasts'\n",
    "zmr = 300\n",
    "tmp = [a*10 + b for a,b in dataframe['year,quarter'.split(',')].values]\n",
    "if True:\n",
    "    fig, ax1 = plt.subplots(figsize=(15,4))\n",
    "    ax2 = ax1.twinx()\n",
    "    ax1.plot(tmp, dataframe.ave_par_amount_change/dataframe.ave_par_amount_change.max()*100, )\n",
    "    ax2.plot(tmp, dataframe2.ave_par_amount_change/dataframe2.ave_par_amount_change.max()*100, 'r--')\n",
    "    ax1.axvline(color='black', x=20052)"
   ]
  },
  {
   "cell_type": "code",
   "execution_count": null,
   "metadata": {
    "collapsed": false,
    "scrolled": true
   },
   "outputs": [],
   "source": [
    "query = (sa.select(columns=[sa.func.sum(sql_holding.c.par_amount_change)]\n",
    "                   , limit=None)\n",
    "#        .where(sql_holding.c.cusip6=='001957')\n",
    "#        .where(sql_holding.c.cusip78=='AV')\n",
    "        .where(sql_holding.c.managing_firm_id.in_(mids))\n",
    "        .group_by(sql_holding.c.year, sql_holding.c.quarter)\n",
    "        )\n",
    "with engine.connect() as connection:\n",
    "    results = (connection\n",
    "               .execution_options(stream_results=True)\n",
    "               .execute(query))\n",
    "    tmpdf = pd.DataFrame(iter(results))\n",
    "    tmpdf.columns = results.keys()\n",
    "print(len(tmpdf.index))\n",
    "tmpdf.head()"
   ]
  },
  {
   "cell_type": "code",
   "execution_count": null,
   "metadata": {
    "collapsed": false
   },
   "outputs": [],
   "source": [
    "tmpdf['year,quarter,sub_account_id,par_amount,report_date,par_amount_change,acquisition_book_value'.\\\n",
    "      split(',')].sort('sub_account_id').dtypes"
   ]
  },
  {
   "cell_type": "code",
   "execution_count": null,
   "metadata": {
    "collapsed": false
   },
   "outputs": [],
   "source": [
    "#kill_pg_connection()"
   ]
  },
  {
   "cell_type": "markdown",
   "metadata": {},
   "source": [
    "# Compustat Data"
   ]
  },
  {
   "cell_type": "code",
   "execution_count": null,
   "metadata": {
    "collapsed": false,
    "scrolled": true
   },
   "outputs": [],
   "source": []
  },
  {
   "cell_type": "code",
   "execution_count": null,
   "metadata": {
    "collapsed": false
   },
   "outputs": [],
   "source": [
    "df_comp = pd.read_csv('../../comp_data.tab', sep='\\t', parse_dates=['date_start', 'date_end', 'date'])\n",
    "df_comp.columns = [x.lower() for x in df_comp.columns]\n",
    "dfc_k = (df_comp.year == KATRINA_DATE.year) & (df_comp.quarter == KATRINA_QUARTER)\n",
    "dfc_prek = (df_comp.year == KATRINA_DATE.year) & (df_comp.quarter == KATRINA_QUARTER-1)\n",
    "\n",
    "treated_series = add_column(df_comp[dfc_prek][['gvkey', 'par_treated']], \n",
    "                            'treated',\n",
    "                            lambda x: int(x.par_treated > 0))\n",
    "df_comp = pd.merge(df_comp, \n",
    "                   treated_series[['gvkey', 'treated']], \n",
    "                   on='gvkey')\n",
    "#print(df_comp.head(1).dtypes)"
   ]
  },
  {
   "cell_type": "code",
   "execution_count": null,
   "metadata": {
    "collapsed": false
   },
   "outputs": [],
   "source": [
    "cusip6_good = list(df_comp.cusip6.unique())"
   ]
  },
  {
   "cell_type": "code",
   "execution_count": null,
   "metadata": {
    "collapsed": false
   },
   "outputs": [],
   "source": [
    "deets = \\\n",
    "df_comp[['date', 'atq', 'ltq', 'niq', 'req', 'par_treated_bool',\n",
    "         'par', 'par_change', 'par_treated', 'par_change_treated',\n",
    "         'how_treated', 'treated_rank', 'katrina_rank']\n",
    "       ].groupby(['date', 'treated_rank']).describe()"
   ]
  },
  {
   "cell_type": "code",
   "execution_count": null,
   "metadata": {
    "collapsed": false
   },
   "outputs": [],
   "source": [
    "if plots:\n",
    "    for var_to_plot in ['atq', 'ltq', 'niq', 'req']:\n",
    "        fig, ax1 = plt.subplots(figsize=(15,4))\n",
    "        summ_stat =  'mean'\n",
    "        for i in deets.index.get_level_values(1).unique():\n",
    "            tmpi = deets.xs(i, level='treated_rank').xs(summ_stat, level=1)\n",
    "            ax1.plot(tmpi.index,\n",
    "                     tmpi[var_to_plot],\n",
    "                     label=\"Rank {}\".format(i))\n",
    "        ax1.axvline(color='black', x=KATRINA_DATE)\n",
    "        ax1.legend()\n",
    "        fig.suptitle('Ranks of {}'.format(var_to_plot))"
   ]
  },
  {
   "cell_type": "code",
   "execution_count": null,
   "metadata": {
    "collapsed": false
   },
   "outputs": [],
   "source": [
    "deets = df_comp[\n",
    "    ['date', 'atq', 'ltq', 'niq', 'req',\n",
    "     'par', 'par_change', 'par_treated', 'par_change_treated',\n",
    "     'how_treated', 'treated_rank', 'katrina_rank']\n",
    "    ].groupby(['date', 'katrina_rank']).describe()\n",
    "if plots:\n",
    "    for var_to_plot in ['atq', 'ltq', 'niq', 'req']:\n",
    "        fig, ax1 = plt.subplots(figsize=(15,4))\n",
    "        summ_stat =  'mean'\n",
    "        for i in deets.index.get_level_values(1).unique():\n",
    "            tmpi = deets.xs(i, level='katrina_rank').xs(summ_stat, level=1)\n",
    "            ax1.plot(tmpi.index,\n",
    "                     tmpi[var_to_plot],\n",
    "                     label=\"Rank {}\".format(i))\n",
    "        ax1.axvline(color='black', x=KATRINA_DATE)\n",
    "        ax1.legend()\n",
    "        fig.suptitle('Ranks of {}'.format(var_to_plot))"
   ]
  },
  {
   "cell_type": "code",
   "execution_count": null,
   "metadata": {
    "collapsed": false,
    "scrolled": false
   },
   "outputs": [],
   "source": [
    "deets = df_comp[df_comp.katrina_rank.notnull()][\n",
    "    ['date', 'atq', 'ltq', 'niq', 'req', 'par_treated_bool',\n",
    "     'par', 'par_change', 'par_treated', 'par_change_treated',\n",
    "     'how_treated', 'treated_rank', 'katrina_rank']\n",
    "    ].groupby(['date', 'par_treated_bool']).describe()\n",
    "if plots:\n",
    "    for var_to_plot in ['atq', 'ltq', 'niq', 'req', 'par', 'par_treated',\n",
    "                        'par_change', 'par_change_treated']:\n",
    "        fig, ax1 = plt.subplots(figsize=(8,4))\n",
    "        summ_stat =  'mean'\n",
    "        for i in deets.index.get_level_values(1).unique():\n",
    "            tmpi = deets.xs(i, level='par_treated_bool').xs(summ_stat, level=1)\n",
    "            ax1.plot(tmpi.index,\n",
    "                     tmpi[var_to_plot],\n",
    "                     'bo-' if i else 'ro--',\n",
    "                     label=\"Treated\" if i else \"Control\")\n",
    "        ax1.axvline(color='black', x=KATRINA_DATE)\n",
    "        ax1.legend()\n",
    "        fig.suptitle('Mean {}'.format(var_to_plot))"
   ]
  },
  {
   "cell_type": "code",
   "execution_count": null,
   "metadata": {
    "collapsed": false,
    "scrolled": false
   },
   "outputs": [],
   "source": [
    "deets = df_comp[df_comp.katrina_rank.notnull()][\n",
    "    ['date', 'atq', 'ltq', 'niq', 'req', 'par_treated_bool',\n",
    "     'par', 'par_change', 'par_treated', 'par_change_treated',\n",
    "     'how_treated', 'treated_rank', 'katrina_rank']\n",
    "    ].groupby(['date', 'par_treated_bool']).describe()\n",
    "if plots:\n",
    "    for var_to_plot in ['atq', 'ltq', 'niq', 'req', 'par', 'par_treated',\n",
    "                        'par_change', 'par_change_treated']:\n",
    "        fig, ax1 = plt.subplots(figsize=(8,4))\n",
    "        summ_stat =  '50%'\n",
    "        for i in deets.index.get_level_values(1).unique():\n",
    "            tmpi = deets.xs(i, level='par_treated_bool').xs(summ_stat, level=1)\n",
    "            ax1.plot(tmpi.index,\n",
    "                     tmpi[var_to_plot],\n",
    "                     'bo-' if i else 'ro--',\n",
    "                     label=\"Treated\" if i else \"Control\")\n",
    "        ax1.axvline(color='black', x=KATRINA_DATE)\n",
    "        ax1.legend()\n",
    "        fig.suptitle('Mean {}'.format(var_to_plot))"
   ]
  },
  {
   "cell_type": "code",
   "execution_count": null,
   "metadata": {
    "collapsed": true
   },
   "outputs": [],
   "source": []
  },
  {
   "cell_type": "code",
   "execution_count": null,
   "metadata": {
    "collapsed": true
   },
   "outputs": [],
   "source": []
  },
  {
   "cell_type": "code",
   "execution_count": null,
   "metadata": {
    "collapsed": true
   },
   "outputs": [],
   "source": []
  },
  {
   "cell_type": "markdown",
   "metadata": {
    "collapsed": true
   },
   "source": [
    "# TODO:\n",
    "1. Ratio of EMAXX / Compustat Liabilities\n",
    "1. Treated is all sub accounts under treated managing firms, control is all insurance sub-accounts"
   ]
  },
  {
   "cell_type": "code",
   "execution_count": null,
   "metadata": {
    "collapsed": false
   },
   "outputs": [],
   "source": [
    "tmp = df_comp[df_comp.gvkey.notnull()].copy()\n",
    "tmp = add_column(tmp, 'debt_ratio_all',\n",
    "                 lambda x: x.par / x.dlttq / 1000 if x.dlttq > 0 else 0)\n",
    "tmp = add_column(tmp, 'debt_ratio',\n",
    "                 lambda x: x.par / x.dlttq / 1000 if x.dlttq > x.par/1000 else 1)\n",
    "print(tmp.columns)"
   ]
  },
  {
   "cell_type": "code",
   "execution_count": null,
   "metadata": {
    "collapsed": false
   },
   "outputs": [],
   "source": [
    "tmp.describe().transpose()"
   ]
  },
  {
   "cell_type": "code",
   "execution_count": null,
   "metadata": {
    "collapsed": false
   },
   "outputs": [],
   "source": [
    "tmpp = tmp.pivot_table(index=['date','treated'], aggfunc='mean')"
   ]
  },
  {
   "cell_type": "code",
   "execution_count": null,
   "metadata": {
    "collapsed": false
   },
   "outputs": [],
   "source": [
    "if plots:\n",
    "    fig, ax1 = plt.subplots(figsize=(15,4))\n",
    "    for i in (0,1):\n",
    "        tmpi = tmpp.xs(i, level='treated')\n",
    "        ax1.plot(tmpi.index,\n",
    "                 tmpi.debt_ratio,\n",
    "                 'bo-' if i else 'ro--',\n",
    "                 label=\"Treated\" if i else \"Control\")\n",
    "    ax1.axvline(color='black', x=KATRINA_DATE)\n",
    "    ax1.legend()\n",
    "    fig.suptitle('Average Bond/Debt ratio')"
   ]
  },
  {
   "cell_type": "code",
   "execution_count": null,
   "metadata": {
    "collapsed": false
   },
   "outputs": [],
   "source": [
    "if plots:\n",
    "    fig, ax1 = plt.subplots(figsize=(15,4))\n",
    "    for i in (0,1):\n",
    "        tmpi = tmpp.xs(i, level='treated')\n",
    "        ax1.plot(tmpi.index,\n",
    "                 tmpi.dlttq,\n",
    "                 'bo-' if i else 'ro--',\n",
    "                 label=\"Treated\" if i else \"Control\")\n",
    "    ax1.axvline(color='black', x=KATRINA_DATE)\n",
    "    ax1.legend()\n",
    "    fig.suptitle('Average Debt outstanding')"
   ]
  },
  {
   "cell_type": "code",
   "execution_count": null,
   "metadata": {
    "collapsed": false
   },
   "outputs": [],
   "source": [
    "if plots:\n",
    "    fig, ax1 = plt.subplots(figsize=(15,4))\n",
    "    for i in (0,1):\n",
    "        tmpi = tmpp.xs(i, level='treated')\n",
    "        ax1.plot(tmpi.index,\n",
    "                 tmpi.par/1000,\n",
    "                 'bo-' if i else 'ro--',\n",
    "                 label=\"Treated\" if i else \"Control\")\n",
    "    ax1.axvline(color='black', x=KATRINA_DATE)\n",
    "    ax1.legend()\n",
    "    fig.suptitle('Average Par Amount')"
   ]
  },
  {
   "cell_type": "code",
   "execution_count": null,
   "metadata": {
    "collapsed": true
   },
   "outputs": [],
   "source": []
  },
  {
   "cell_type": "code",
   "execution_count": null,
   "metadata": {
    "collapsed": true
   },
   "outputs": [],
   "source": []
  },
  {
   "cell_type": "code",
   "execution_count": null,
   "metadata": {
    "collapsed": true
   },
   "outputs": [],
   "source": []
  },
  {
   "cell_type": "code",
   "execution_count": null,
   "metadata": {
    "collapsed": true
   },
   "outputs": [],
   "source": []
  },
  {
   "cell_type": "code",
   "execution_count": null,
   "metadata": {
    "collapsed": true
   },
   "outputs": [],
   "source": []
  }
 ],
 "metadata": {
  "kernelspec": {
   "display_name": "Python 3",
   "language": "python",
   "name": "python3"
  },
  "language_info": {
   "codemirror_mode": {
    "name": "ipython",
    "version": 3
   },
   "file_extension": ".py",
   "mimetype": "text/x-python",
   "name": "python",
   "nbconvert_exporter": "python",
   "pygments_lexer": "ipython3",
   "version": "3.4.3"
  }
 },
 "nbformat": 4,
 "nbformat_minor": 0
}
